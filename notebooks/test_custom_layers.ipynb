{
 "cells": [
  {
   "cell_type": "code",
   "execution_count": 1,
   "metadata": {},
   "outputs": [],
   "source": [
    "import sys\n",
    "sys.path.append(\"/home/hacene/Documents/StyleGAN-pytorch-lightining/src\")"
   ]
  },
  {
   "cell_type": "code",
   "execution_count": 2,
   "metadata": {},
   "outputs": [],
   "source": [
    "import torch\n",
    "import pytorch_lightning as pl"
   ]
  },
  {
   "cell_type": "code",
   "execution_count": 3,
   "metadata": {},
   "outputs": [],
   "source": [
    "from models import StyleGAN\n",
    "from callbacks import UpdateBatchSizeDataLoader, UpdateMixingDepth\n",
    "\n",
    "import torch\n",
    "import pytorch_lightning as pl\n",
    "from torch.utils.data import Dataset, DataLoader\n",
    "from torchvision.datasets import CIFAR10\n",
    "from torchvision.transforms import (\n",
    "    ToTensor,\n",
    "    Normalize,\n",
    "    Compose,\n",
    "    Resize,\n",
    "    RandomHorizontalFlip,\n",
    ")\n"
   ]
  },
  {
   "cell_type": "code",
   "execution_count": 4,
   "metadata": {},
   "outputs": [],
   "source": [
    "def get_transform(new_size=None):\n",
    "    \"\"\"\n",
    "    obtain the image transforms required for the input data\n",
    "    :param new_size: size of the resized images\n",
    "    :return: image_transform => transform object from TorchVision\n",
    "    \"\"\"\n",
    "\n",
    "    if new_size is not None:\n",
    "        image_transform = Compose(\n",
    "            [\n",
    "                RandomHorizontalFlip(),\n",
    "                Resize(new_size),\n",
    "                ToTensor(),\n",
    "                Normalize(mean=(0.5, 0.5, 0.5), std=(0.5, 0.5, 0.5)),\n",
    "            ]\n",
    "        )\n",
    "\n",
    "    else:\n",
    "        image_transform = Compose(\n",
    "            [\n",
    "                RandomHorizontalFlip(),\n",
    "                ToTensor(),\n",
    "                Normalize(mean=(0.5, 0.5, 0.5), std=(0.5, 0.5, 0.5)),\n",
    "            ]\n",
    "        )\n",
    "    return image_transform"
   ]
  },
  {
   "cell_type": "code",
   "execution_count": 5,
   "metadata": {},
   "outputs": [],
   "source": [
    "class DataModule(pl.LightningDataModule):\n",
    "    def __init__(self, data_dir=\"..\", batch_size=64):\n",
    "        super().__init__()\n",
    "        self.data_dir = data_dir\n",
    "        self.batch_size = batch_size\n",
    "\n",
    "    def setup(self, stage):\n",
    "        transform = get_transform()\n",
    "        self.dataset = CIFAR10(root=\".\", train=False, download=True, transform=transform)\n",
    "\n",
    "    def train_dataloader(self):\n",
    "        return DataLoader(self.dataset, batch_size=self.batch_size, shuffle=True)"
   ]
  },
  {
   "cell_type": "code",
   "execution_count": 6,
   "metadata": {},
   "outputs": [],
   "source": [
    "dataloader = DataModule()"
   ]
  },
  {
   "cell_type": "code",
   "execution_count": 7,
   "metadata": {},
   "outputs": [],
   "source": [
    "opt_args = {\"lr\": 0.003, \"betas\": (0, 0.99), \"eps\": 1e-8}\n",
    "model = StyleGAN(\n",
    "    structure=\"linear\",\n",
    "    resolution=32,\n",
    "    num_channels=3,\n",
    "    z_latent_dim=512,\n",
    "    generator_args={},\n",
    "    discriminator_args={},\n",
    "    generator_opt_args=opt_args,\n",
    "    discriminator_opt_args=opt_args,\n",
    "    start_depth=0,\n",
    ")"
   ]
  },
  {
   "cell_type": "code",
   "execution_count": 8,
   "metadata": {},
   "outputs": [],
   "source": [
    "callback = UpdateMixingDepth(epochs_for_each_depth=[2, 2, 2, 2], fade_for_each_depth=[50, 50, 50, 50])"
   ]
  },
  {
   "cell_type": "code",
   "execution_count": 9,
   "metadata": {},
   "outputs": [
    {
     "name": "stderr",
     "output_type": "stream",
     "text": [
      "GPU available: False, used: False\n",
      "TPU available: False, using: 0 TPU cores\n"
     ]
    }
   ],
   "source": [
    "trainer = pl.Trainer(max_epochs=8, callbacks=[callback])"
   ]
  },
  {
   "cell_type": "code",
   "execution_count": null,
   "metadata": {},
   "outputs": [],
   "source": [
    "trainer.fit(model, dataloader)"
   ]
  },
  {
   "cell_type": "code",
   "execution_count": null,
   "metadata": {},
   "outputs": [],
   "source": []
  }
 ],
 "metadata": {
  "interpreter": {
   "hash": "48eb5fdec96ab0af2d5194913843e3893954fd5721a560ef91c2062cefe4a820"
  },
  "kernelspec": {
   "display_name": "Python 3.8.5 64-bit ('stylegan-YSnegmsz-py3.8': poetry)",
   "language": "python",
   "name": "python3"
  },
  "language_info": {
   "codemirror_mode": {
    "name": "ipython",
    "version": 3
   },
   "file_extension": ".py",
   "mimetype": "text/x-python",
   "name": "python",
   "nbconvert_exporter": "python",
   "pygments_lexer": "ipython3",
   "version": "3.8.5"
  },
  "orig_nbformat": 4
 },
 "nbformat": 4,
 "nbformat_minor": 2
}
